{
  "nbformat": 4,
  "nbformat_minor": 0,
  "metadata": {
    "colab": {
      "provenance": []
    },
    "kernelspec": {
      "name": "python3",
      "display_name": "Python 3"
    },
    "language_info": {
      "name": "python"
    }
  },
  "cells": [
    {
      "cell_type": "markdown",
      "source": [
        "# micrograd exercises\n",
        "\n",
        "1. watch the [micrograd video](https://www.youtube.com/watch?v=VMj-3S1tku0) on YouTube\n",
        "2. come back and complete these exercises to level up :)"
      ],
      "metadata": {
        "id": "JnGHatCI51JP"
      }
    },
    {
      "cell_type": "markdown",
      "source": [
        "## section 1: derivatives"
      ],
      "metadata": {
        "id": "OFt6NKOz6iBZ"
      }
    },
    {
      "cell_type": "code",
      "source": [
        "# here is a mathematical expression that takes 3 inputs and produces one output\n",
        "from math import sin, cos\n",
        "\n",
        "def f(a, b, c):\n",
        "  return -a**3 + sin(3*b) - 1.0/c + b**2.5 - a**0.5\n",
        "\n",
        "print(f(2, 3, 4))"
      ],
      "metadata": {
        "id": "3Jx9fCXl5xHd",
        "colab": {
          "base_uri": "https://localhost:8080/"
        },
        "outputId": "76ba1401-1b42-41c7-8e7d-ac0e87175570"
      },
      "execution_count": null,
      "outputs": [
        {
          "output_type": "stream",
          "name": "stdout",
          "text": [
            "6.336362190988558\n"
          ]
        }
      ]
    },
    {
      "cell_type": "code",
      "source": [
        "# write the function df that returns the analytical gradient of f\n",
        "# i.e. use your skills from calculus to take the derivative, then implement the formula\n",
        "# if you do not calculus then feel free to ask wolframalpha, e.g.:\n",
        "# https://www.wolframalpha.com/input?i=d%2Fda%28sin%283*a%29%29%29\n",
        "\n",
        "# def gradf(a, b, c):\n",
        "#   return [0, 0, 0] # todo, return [df/da, df/db, df/dc]\n",
        "\n",
        "# # expected answer is the list of\n",
        "# ans = [-12.353553390593273, 10.25699027111255, 0.0625]\n",
        "# yours = gradf(2, 3, 4)\n",
        "# for dim in range(3):\n",
        "#   ok = 'OK' if abs(yours[dim] - ans[dim]) < 1e-5 else 'WRONG!'\n",
        "#   print(f\"{ok} for dim {dim}: expected {ans[dim]}, yours returns {yours[dim]}\")\n",
        "\n",
        "def gradf(a, b, c):\n",
        "  dfa = -3*a**2 - 0.5*a**-0.5\n",
        "  dfb = 3*cos(3*b) + 2.5*b**1.5\n",
        "  dfc = 1/c**2\n",
        "  return [dfa, dfb, dfc]\n",
        "\n",
        "ans = [-12.353553390593273, 10.25699027111255, 0.0625]\n",
        "yours = gradf(2, 3, 4)\n",
        "for dim in range(3):\n",
        "  ok = 'OK' if abs(yours[dim] - ans[dim]) < 1e-5 else 'WRONG!'\n",
        "  print(f\"{ok} for dim {dim}: expected {ans[dim]}, yours returns {yours[dim]}\")\n",
        "\n"
      ],
      "metadata": {
        "id": "qXaH59eL9zxf",
        "colab": {
          "base_uri": "https://localhost:8080/"
        },
        "outputId": "4e90e621-dda3-41ed-8de1-5140a068688c"
      },
      "execution_count": null,
      "outputs": [
        {
          "output_type": "stream",
          "name": "stdout",
          "text": [
            "OK for dim 0: expected -12.353553390593273, yours returns -12.353553390593273\n",
            "OK for dim 1: expected 10.25699027111255, yours returns 10.25699027111255\n",
            "OK for dim 2: expected 0.0625, yours returns 0.0625\n"
          ]
        }
      ]
    },
    {
      "cell_type": "code",
      "source": [
        "# now estimate the gradient numerically without any calculus, using\n",
        "# the approximation we used in the video.\n",
        "# you should not call the function df from the last cell\n",
        "\n",
        "# # -----------\n",
        "# numerical_grad = [0, 0, 0] # TODO\n",
        "# # -----------\n",
        "\n",
        "# for dim in range(3):\n",
        "#   ok = 'OK' if abs(numerical_grad[dim] - ans[dim]) < 1e-5 else 'WRONG!'\n",
        "#   print(f\"{ok} for dim {dim}: expected {ans[dim]}, yours returns {numerical_grad[dim]}\")\n",
        "\n",
        "h = 1e-5\n",
        "numerical_grad = [0, 0, 0]\n",
        "\n",
        "def f_partial_derivative(f, vars, i, h):\n",
        "    vars_h1 = vars[:]\n",
        "    vars_h2 = vars[:]\n",
        "    vars_h1[i] += h\n",
        "    vars_h2[i] -= h\n",
        "    return (f(*vars_h1) - f(*vars_h2)) / (2 * h)\n",
        "\n",
        "a, b, c = 2, 3, 4\n",
        "variables = [a, b, c]\n",
        "\n",
        "for i in range(3):\n",
        "    numerical_grad[i] = f_partial_derivative(f, variables, i, h)\n",
        "\n",
        "for dim in range(3):\n",
        "  ok = 'OK' if abs(numerical_grad[dim] - ans[dim]) < 1e-5 else 'WRONG!'\n",
        "  print(f\"{ok} for dim {dim}: expected {ans[dim]}, yours returns {numerical_grad[dim]}\")\n"
      ],
      "metadata": {
        "id": "_27n-KTA9Qla",
        "colab": {
          "base_uri": "https://localhost:8080/"
        },
        "outputId": "cc8314a4-d9c8-4737-acec-e40045875346"
      },
      "execution_count": null,
      "outputs": [
        {
          "output_type": "stream",
          "name": "stdout",
          "text": [
            "OK for dim 0: expected -12.353553390593273, yours returns -12.353553390820336\n",
            "OK for dim 1: expected 10.25699027111255, yours returns 10.256990271617639\n",
            "OK for dim 2: expected 0.0625, yours returns 0.06250000001983835\n"
          ]
        }
      ]
    },
    {
      "cell_type": "code",
      "source": [
        "# there is an alternative formula that provides a much better numerical\n",
        "# approximation to the derivative of a function.\n",
        "# learn about it here: https://en.wikipedia.org/wiki/Symmetric_derivative\n",
        "# implement it. confirm that for the same step size h this version gives a\n",
        "# better approximation.\n",
        "\n",
        "# # -----------\n",
        "# numerical_grad2 = [0, 0, 0] # TODO\n",
        "# # -----------\n",
        "\n",
        "# for dim in range(3):\n",
        "#   ok = 'OK' if abs(numerical_grad2[dim] - ans[dim]) < 1e-5 else 'WRONG!'\n",
        "#   print(f\"{ok} for dim {dim}: expected {ans[dim]}, yours returns {numerical_grad2[dim]}\")\n",
        "\n",
        "numerical_grad2 = [0, 0, 0]\n",
        "\n",
        "for i in range(3):\n",
        "    numerical_grad2[i] = f_partial_derivative(f, variables, i, h)\n",
        "\n",
        "for dim in range(3):\n",
        "  ok = 'OK' if abs(numerical_grad2[dim] - ans[dim]) < 1e-5 else 'WRONG!'\n",
        "  print(f\"{ok} for dim {dim}: expected {ans[dim]}, yours returns {numerical_grad2[dim]}\")\n"
      ],
      "metadata": {
        "id": "BUqsGb5o_h2P",
        "colab": {
          "base_uri": "https://localhost:8080/"
        },
        "outputId": "4c22d10f-eb37-4ffa-9be9-06be368a8711"
      },
      "execution_count": null,
      "outputs": [
        {
          "output_type": "stream",
          "name": "stdout",
          "text": [
            "OK for dim 0: expected -12.353553390593273, yours returns -12.353553390820336\n",
            "OK for dim 1: expected 10.25699027111255, yours returns 10.256990271617639\n",
            "OK for dim 2: expected 0.0625, yours returns 0.06250000001983835\n"
          ]
        }
      ]
    },
    {
      "cell_type": "markdown",
      "source": [
        "## section 2: support for softmax"
      ],
      "metadata": {
        "id": "tklF9s_4AtlI"
      }
    },
    {
      "cell_type": "markdown",
      "source": [],
      "metadata": {
        "id": "67mTAaeCRlTb"
      }
    },
    {
      "cell_type": "code",
      "source": [
        "# # Value class starter code, with many functions taken out\n",
        "# from math import exp, log\n",
        "\n",
        "# class Value:\n",
        "\n",
        "#   def __init__(self, data, _children=(), _op='', label=''):\n",
        "#     self.data = data\n",
        "#     self.grad = 0.0\n",
        "#     self._backward = lambda: None\n",
        "#     self._prev = set(_children)\n",
        "#     self._op = _op\n",
        "#     self.label = label\n",
        "\n",
        "#   def __repr__(self):\n",
        "#     return f\"Value(data={self.data})\"\n",
        "\n",
        "#   def __add__(self, other): # exactly as in the video\n",
        "#     other = other if isinstance(other, Value) else Value(other)\n",
        "#     out = Value(self.data + other.data, (self, other), '+')\n",
        "\n",
        "#     def _backward():\n",
        "#       self.grad += 1.0 * out.grad\n",
        "#       other.grad += 1.0 * out.grad\n",
        "#     out._backward = _backward\n",
        "\n",
        "#     return out\n",
        "\n",
        "#   # ------\n",
        "#   # re-implement all the other functions needed for the exercises below\n",
        "#   # your code here\n",
        "#   # TODO\n",
        "#   # ------\n",
        "\n",
        "#   def backward(self): # exactly as in video\n",
        "#     topo = []\n",
        "#     visited = set()\n",
        "#     def build_topo(v):\n",
        "#       if v not in visited:\n",
        "#         visited.add(v)\n",
        "#         for child in v._prev:\n",
        "#           build_topo(child)\n",
        "#         topo.append(v)\n",
        "#     build_topo(self)\n",
        "\n",
        "#     self.grad = 1.0\n",
        "#     for node in reversed(topo):\n",
        "#       node._backward()\n",
        "\n",
        "from math import exp, log, sin, cos, sqrt\n",
        "\n",
        "class Value:\n",
        "    def __init__(self, data, _children=(), _op='', label=''):\n",
        "        self.data = data\n",
        "        self.grad = 0.0\n",
        "        self._backward = lambda: None\n",
        "        self._prev = set(_children)\n",
        "        self._op = _op\n",
        "        self.label = label\n",
        "\n",
        "    def __repr__(self):\n",
        "        return f\"Value(data={self.data}, grad={self.grad})\"\n",
        "\n",
        "    def __add__(self, other):\n",
        "        other = other if isinstance(other, Value) else Value(other)\n",
        "        out = Value(self.data + other.data, (self, other), '+')\n",
        "\n",
        "        def _backward():\n",
        "            self.grad += 1.0 * out.grad\n",
        "            other.grad += 1.0 * out.grad\n",
        "        out._backward = _backward\n",
        "\n",
        "        return out\n",
        "\n",
        "    def __mul__(self, other):\n",
        "        other = other if isinstance(other, Value) else Value(other)\n",
        "        out = Value(self.data * other.data, (self, other), '*')\n",
        "\n",
        "        def _backward():\n",
        "            self.grad += other.data * out.grad\n",
        "            other.grad += self.data * out.grad\n",
        "        out._backward = _backward\n",
        "\n",
        "        return out\n",
        "\n",
        "    def __truediv__(self, other):\n",
        "        other = other if isinstance(other, Value) else Value(other)\n",
        "        out = Value(self.data / other.data, (self, other), '/')\n",
        "\n",
        "        def _backward():\n",
        "            self.grad += (1 / other.data) * out.grad\n",
        "            other.grad += (-self.data / (other.data ** 2)) * out.grad\n",
        "        out._backward = _backward\n",
        "\n",
        "        return out\n",
        "\n",
        "    def __neg__(self):\n",
        "        out = Value(-self.data, (self,), 'neg')\n",
        "\n",
        "        def _backward():\n",
        "            self.grad += -out.grad\n",
        "        out._backward = _backward\n",
        "\n",
        "        return out\n",
        "\n",
        "    def exp(self):\n",
        "        out = Value(exp(self.data), (self,), 'exp')\n",
        "\n",
        "        def _backward():\n",
        "            self.grad += out.data * out.grad\n",
        "        out._backward = _backward\n",
        "\n",
        "        return out\n",
        "\n",
        "    def log(self):\n",
        "        out = Value(log(self.data), (self,), 'log')\n",
        "\n",
        "        def _backward():\n",
        "            self.grad += (1 / self.data) * out.grad\n",
        "        out._backward = _backward\n",
        "\n",
        "        return out\n",
        "\n",
        "    def backward(self):\n",
        "        topo = []\n",
        "        visited = set()\n",
        "\n",
        "        def build_topo(v):\n",
        "            if v not in visited:\n",
        "                visited.add(v)\n",
        "                for child in v._prev:\n",
        "                    build_topo(child)\n",
        "                topo.append(v)\n",
        "        build_topo(self)\n",
        "\n",
        "        self.grad = 1.0\n",
        "        for node in reversed(topo):\n",
        "            node._backward()\n",
        "\n",
        "    def __radd__(self, other):\n",
        "        return self + other\n",
        "\n",
        "    def __rmul__(self, other):\n",
        "        return self * other\n",
        "\n",
        "    def __rtruediv__(self, other):\n",
        "        return Value(other) / self\n",
        "\n",
        "    def __rpow__(self, other):\n",
        "        return Value(other) ** self\n",
        "\n",
        "def softmax(logits):\n",
        "    exp_logits = [logit.exp() for logit in logits]\n",
        "    sum_exp_logits = sum(exp_logits)\n",
        "    probs = [exp_logit / sum_exp_logits for exp_logit in exp_logits]\n",
        "    return probs\n",
        "\n",
        "\n",
        "logits = [Value(0.0), Value(3.0), Value(-2.0), Value(1.0)]\n",
        "probs = softmax(logits)\n",
        "loss = -probs[3].log()  # Compute loss using negative log likelihood\n",
        "\n",
        "# Displaying computed gradients\n",
        "print(\"Computed loss:\", loss.data)\n",
        "for i, logit in enumerate(logits):\n",
        "    print(f\"Gradient of logit {i}: {logit.grad}\")\n",
        "\n",
        "# Verification with PyTorch\n",
        "import torch\n",
        "\n",
        "logits_torch = torch.tensor([0.0, 3.0, -2.0, 1.0], requires_grad=True)\n",
        "probs_torch = torch.nn.functional.softmax(logits_torch, dim=0)\n",
        "loss_torch = -torch.log(probs_torch[3])\n",
        "loss_torch.backward()\n",
        "\n",
        "print(\"PyTorch gradients:\")\n",
        "for i in range(4):\n",
        "    print(f\"Gradient of logit {i}: {logits_torch.grad[i].item()}\")\n",
        "ans = [logits_torch.grad[i].item() for i in range(4)]\n",
        "\n",
        "for dim in range(4):\n",
        "    ok = 'OK' if abs(logits[dim].grad - ans[dim]) < 1e-5 else 'WRONG!'\n",
        "    print(f\"{ok} for dim {dim}: expected {ans[dim]}, yours returns {logits[dim].grad}\")\n"
      ],
      "metadata": {
        "id": "VgWvwVQNAvnI",
        "colab": {
          "base_uri": "https://localhost:8080/"
        },
        "outputId": "4d426045-18f1-4784-c775-f80bfa5c663e"
      },
      "execution_count": null,
      "outputs": [
        {
          "output_type": "stream",
          "name": "stdout",
          "text": [
            "Computed loss: 2.1755153626167147\n",
            "Gradient of logit 0: 0.0\n",
            "Gradient of logit 1: 0.0\n",
            "Gradient of logit 2: 0.0\n",
            "Gradient of logit 3: 0.0\n",
            "PyTorch gradients:\n",
            "Gradient of logit 0: 0.041772566735744476\n",
            "Gradient of logit 1: 0.8390244841575623\n",
            "Gradient of logit 2: 0.005653302650898695\n",
            "Gradient of logit 3: -0.8864504098892212\n",
            "WRONG! for dim 0: expected 0.041772566735744476, yours returns 0.0\n",
            "WRONG! for dim 1: expected 0.8390244841575623, yours returns 0.0\n",
            "WRONG! for dim 2: expected 0.005653302650898695, yours returns 0.0\n",
            "WRONG! for dim 3: expected -0.8864504098892212, yours returns 0.0\n"
          ]
        }
      ]
    },
    {
      "cell_type": "markdown",
      "source": [],
      "metadata": {
        "id": "mFx5roG22QPi"
      }
    },
    {
      "cell_type": "code",
      "source": [
        "# # verify the gradient using the torch library\n",
        "# # torch should give you the exact same gradient\n",
        "# import torch\n",
        "\n",
        "import torch\n",
        "\n",
        "logits_torch = torch.tensor([0.0, 3.0, -2.0, 1.0], requires_grad=True)\n",
        "probs_torch = torch.nn.functional.softmax(logits_torch, dim=0)\n",
        "loss_torch = -torch.log(probs_torch[3])\n",
        "loss_torch.backward()\n",
        "\n",
        "print(\"PyTorch gradients:\")\n",
        "for i in range(4):\n",
        "    print(f\"Gradient of logit {i}: {logits_torch.grad[i].item()}\")\n",
        "ans = [logits_torch.grad[i].item() for i in range(4)]\n",
        "for dim in range(4):\n",
        "    ok = 'OK' if abs(logits[dim].grad - ans[dim]) < 1e-5 else 'WRONG!'\n",
        "    print(f\"{ok} for dim {dim}: expected {ans[dim]}, yours returns {logits[dim].grad}\")\n"
      ],
      "metadata": {
        "id": "q7ca1SVAGG1S",
        "colab": {
          "base_uri": "https://localhost:8080/"
        },
        "outputId": "d23a31ad-c7e6-47b4-a32b-4730e2f71547"
      },
      "execution_count": null,
      "outputs": [
        {
          "output_type": "stream",
          "name": "stdout",
          "text": [
            "PyTorch gradients:\n",
            "Gradient of logit 0: 0.041772566735744476\n",
            "Gradient of logit 1: 0.8390244841575623\n",
            "Gradient of logit 2: 0.005653302650898695\n",
            "Gradient of logit 3: -0.8864504098892212\n",
            "WRONG! for dim 0: expected 0.041772566735744476, yours returns 0.0\n",
            "WRONG! for dim 1: expected 0.8390244841575623, yours returns 0.0\n",
            "WRONG! for dim 2: expected 0.005653302650898695, yours returns 0.0\n",
            "WRONG! for dim 3: expected -0.8864504098892212, yours returns 0.0\n"
          ]
        }
      ]
    },
    {
      "cell_type": "code",
      "source": [
        "# very dispointed"
      ],
      "metadata": {
        "id": "avc9GMMp6XfS"
      },
      "execution_count": null,
      "outputs": []
    },
    {
      "cell_type": "code",
      "source": [],
      "metadata": {
        "id": "yx5E_dG38q9W"
      },
      "execution_count": null,
      "outputs": []
    },
    {
      "cell_type": "code",
      "source": [],
      "metadata": {
        "id": "REy2Bc7x8rIl"
      },
      "execution_count": null,
      "outputs": []
    },
    {
      "cell_type": "code",
      "source": [],
      "metadata": {
        "id": "UF5lDNEY8rVM"
      },
      "execution_count": null,
      "outputs": []
    }
  ]
}